{
 "cells": [
  {
   "cell_type": "code",
   "execution_count": 1,
   "metadata": {},
   "outputs": [],
   "source": [
    "import pandas as pd\n",
    "import numpy as np\n",
    "\n",
    "# Func to create cohorts and optimize data for analysis\n",
    "def cohort_import(filepaths):\n",
    "    all_cohort_data = []  \n",
    "\n",
    "    \n",
    "    for filepath in filepaths:\n",
    "        df = pd.read_csv(filepath, sep='\\t', encoding = 'utf-8', on_bad_lines='skip')\n",
    "\n",
    "        df['review_length'] = df['review_body'].str.len()\n",
    "        df['star_rating'] = pd.to_numeric(df['star_rating'], errors='coerce')\n",
    "        df.drop(columns=['marketplace', 'review_body', 'review_headline', 'product_parent', 'total_votes', 'vine'], inplace=True, errors='ignore')\n",
    "        df['customer_id'] = df['customer_id'].astype('int32', errors='ignore')\n",
    "        df['product_category'] = df['product_category'].astype('category')\n",
    "        df['star_rating'] = df['star_rating'].astype('float16')\n",
    "        df['helpful_votes'] = df['helpful_votes'].astype('float16')\n",
    "        df['verified_purchase'] = df['verified_purchase'].map({'Y': True, 'N': False}).astype(bool)\n",
    "        df['review_date'] = pd.to_datetime(df['review_date'], errors='coerce')\n",
    "        df['verified_percent'] = df['verified_purchase'].map({'Y': 1, 'N': 0})\n",
    "\n",
    "        # Sort by 'product_id' and 'review_date' to prepare for cohort analysis\n",
    "        df.sort_values(['product_id', 'review_date'], inplace=True)\n",
    "        \n",
    "        df['review_cohort'] = df.groupby('product_id').cumcount() // 200\n",
    "        cohort_data = df.groupby(['product_id', 'review_cohort']).agg(\n",
    "            average_rating=('star_rating', 'mean'),\n",
    "            end_date=('review_date', 'max'),\n",
    "            mean_review_length=('review_length', 'mean'),\n",
    "            percent_verified=('verified_percent', 'sum')  \n",
    "            ).reset_index()\n",
    "        \n",
    "\n",
    "        all_cohort_data.append(cohort_data)\n",
    "    \n",
    "    df_vol = pd.concat(all_cohort_data, ignore_index=True)\n",
    "    \n",
    "    return df_vol\n",
    "\n",
    "    \n",
    "    "
   ]
  },
  {
   "cell_type": "code",
   "execution_count": 2,
   "metadata": {},
   "outputs": [
    {
     "name": "stderr",
     "output_type": "stream",
     "text": [
      "C:\\Users\\willf\\AppData\\Local\\Temp\\ipykernel_28184\\2863293635.py:10: DtypeWarning: Columns (7) have mixed types. Specify dtype option on import or set low_memory=False.\n",
      "  df = pd.read_csv(filepath, sep='\\t', encoding = 'utf-8', on_bad_lines='skip')\n",
      "C:\\Users\\willf\\AppData\\Local\\Temp\\ipykernel_28184\\2863293635.py:10: DtypeWarning: Columns (7) have mixed types. Specify dtype option on import or set low_memory=False.\n",
      "  df = pd.read_csv(filepath, sep='\\t', encoding = 'utf-8', on_bad_lines='skip')\n",
      "C:\\Users\\willf\\AppData\\Local\\Temp\\ipykernel_28184\\2863293635.py:10: DtypeWarning: Columns (7) have mixed types. Specify dtype option on import or set low_memory=False.\n",
      "  df = pd.read_csv(filepath, sep='\\t', encoding = 'utf-8', on_bad_lines='skip')\n",
      "C:\\Users\\willf\\AppData\\Local\\Temp\\ipykernel_28184\\2863293635.py:10: DtypeWarning: Columns (7) have mixed types. Specify dtype option on import or set low_memory=False.\n",
      "  df = pd.read_csv(filepath, sep='\\t', encoding = 'utf-8', on_bad_lines='skip')\n"
     ]
    }
   ],
   "source": [
    "# Run import and optimize func\n",
    "df_vol = cohort_import([(r\"D:\\NYCDSA REVIEWS PROJECT\\AMZN_Reviews\\amazon_reviews_us_Outdoors_v1_00.tsv\"), \n",
    "(r\"D:\\NYCDSA REVIEWS PROJECT\\AMZN_Reviews\\amazon_reviews_us_Furniture_v1_00.tsv\"), \n",
    "(r\"D:\\NYCDSA REVIEWS PROJECT\\AMZN_Reviews\\amazon_reviews_us_Automotive_v1_00.tsv\"), \n",
    "(r\"D:\\NYCDSA REVIEWS PROJECT\\AMZN_Reviews\\amazon_reviews_us_Major_Appliances_v1_00.tsv\"), \n",
    "(r\"D:\\NYCDSA REVIEWS PROJECT\\AMZN_Reviews\\amazon_reviews_us_Office_Products_v1_00.tsv\"), \n",
    "(r\"D:\\NYCDSA REVIEWS PROJECT\\AMZN_Reviews\\amazon_reviews_us_Tools_v1_00.tsv\"), \n",
    "(r\"D:\\NYCDSA REVIEWS PROJECT\\AMZN_Reviews\\amazon_reviews_us_Camera_v1_00.tsv\")])"
   ]
  },
  {
   "cell_type": "code",
   "execution_count": 3,
   "metadata": {},
   "outputs": [
    {
     "name": "stdout",
     "output_type": "stream",
     "text": [
      "Data for product B00MD0HSKA:\n",
      "         product_id  review_cohort  average_rating   end_date  \\\n",
      "1239042  B00MD0HSKA              0             3.5 2015-08-18   \n",
      "\n",
      "         mean_review_length  percent_verified  \n",
      "1239042                69.0               0.0  \n",
      "\n",
      "\n",
      "Data for product B00TKGILBU:\n",
      "         product_id  review_cohort  average_rating   end_date  \\\n",
      "1283626  B00TKGILBU              0             5.0 2015-02-24   \n",
      "\n",
      "         mean_review_length  percent_verified  \n",
      "1283626                15.0               0.0  \n",
      "\n",
      "\n",
      "Data for product B000J2VLT8:\n",
      "        product_id  review_cohort  average_rating   end_date  \\\n",
      "633790  B000J2VLT8              0             5.0 2014-07-23   \n",
      "\n",
      "        mean_review_length  percent_verified  \n",
      "633790                 9.0               0.0  \n",
      "\n",
      "\n"
     ]
    }
   ],
   "source": [
    "\n",
    "# Inspect a few products to make sure things worked\n",
    "sample_product_ids = df_vol['product_id'].sample(n=3, random_state=1).tolist()\n",
    "\n",
    "for product_id in sample_product_ids:\n",
    "    product_data = df_vol[df_vol['product_id'] == product_id]\n",
    "    print(f\"Data for product {product_id}:\")\n",
    "    print(product_data)\n",
    "    print(\"\\n\")\n"
   ]
  },
  {
   "cell_type": "code",
   "execution_count": 4,
   "metadata": {},
   "outputs": [
    {
     "name": "stdout",
     "output_type": "stream",
     "text": [
      "df_vol rows: 1983431\n",
      "product_id\n",
      "0006446256    1\n",
      "0007262973    1\n",
      "0011300000    1\n",
      "0113000316    1\n",
      "0136039847    1\n",
      "Name: review_cohort, dtype: int64\n",
      "5470\n"
     ]
    }
   ],
   "source": [
    "# More inspection since this func caused me lots of problems in previous iterations\n",
    "# Also filtering for min amount of cohorts\n",
    "\n",
    "print(f'df_vol rows: {df_vol.shape[0]}')\n",
    "\n",
    "# Count cohorts for each product\n",
    "cohort_counts = df_vol.groupby('product_id')['review_cohort'].nunique()\n",
    "print(cohort_counts.head())\n",
    "\n",
    "# Filter out < 4 cohort products\n",
    "products_with_four_cohorts = cohort_counts[cohort_counts >= 4].index\n",
    "filtered_cohort_data = df_vol[df_vol['product_id'].isin(products_with_four_cohorts)]\n",
    "\n",
    "print(filtered_cohort_data.shape[0])"
   ]
  },
  {
   "cell_type": "code",
   "execution_count": 5,
   "metadata": {},
   "outputs": [
    {
     "name": "stdout",
     "output_type": "stream",
     "text": [
      "count    926.000000\n",
      "mean       5.904968\n",
      "std        3.592430\n",
      "min        4.000000\n",
      "25%        4.000000\n",
      "50%        5.000000\n",
      "75%        6.000000\n",
      "max       47.000000\n",
      "Name: review_cohort, dtype: float64\n"
     ]
    }
   ],
   "source": [
    "# Test that filtering worked\n",
    "cohort_counts = filtered_cohort_data.groupby('product_id')['review_cohort'].nunique()\n",
    "print(cohort_counts.describe())\n",
    "assert cohort_counts.min() >= 4, \"There are products with fewer than 5 cohorts in the dataset.\"\n"
   ]
  },
  {
   "cell_type": "code",
   "execution_count": 6,
   "metadata": {},
   "outputs": [
    {
     "name": "stdout",
     "output_type": "stream",
     "text": [
      "Data for product B0092ECRLA:\n",
      "        product_id  review_cohort  average_rating   end_date  \\\n",
      "211614  B0092ECRLA              0        4.414062 2014-09-19   \n",
      "211615  B0092ECRLA              1        4.593750 2015-02-24   \n",
      "211616  B0092ECRLA              2        4.746094 2015-07-16   \n",
      "211617  B0092ECRLA              3        4.753906 2015-08-31   \n",
      "\n",
      "        mean_review_length  percent_verified  \n",
      "211614          308.270000               0.0  \n",
      "211615          213.050000               0.0  \n",
      "211616          232.200000               0.0  \n",
      "211617          339.438202               0.0  \n",
      "\n",
      "\n",
      "Data for product B003YGZIY0:\n",
      "         product_id  review_cohort  average_rating   end_date  \\\n",
      "1418515  B003YGZIY0              0        3.560547 2012-07-24   \n",
      "1418516  B003YGZIY0              1        3.539062 2013-04-18   \n",
      "1418517  B003YGZIY0              2        4.035156 2013-09-08   \n",
      "1418518  B003YGZIY0              3        4.023438 2014-01-13   \n",
      "1418519  B003YGZIY0              4        3.550781 2014-08-30   \n",
      "1418520  B003YGZIY0              5        3.511719 2015-08-31   \n",
      "\n",
      "         mean_review_length  percent_verified  \n",
      "1418515          465.920000               0.0  \n",
      "1418516          421.535000               0.0  \n",
      "1418517          333.865000               0.0  \n",
      "1418518          285.140000               0.0  \n",
      "1418519          301.475000               0.0  \n",
      "1418520          169.344538               0.0  \n",
      "\n",
      "\n",
      "Data for product B001T7QJ9O:\n",
      "         product_id  review_cohort  average_rating   end_date  \\\n",
      "1693314  B001T7QJ9O              0        4.335938 2011-02-05   \n",
      "1693315  B001T7QJ9O              1        4.246094 2011-10-07   \n",
      "1693316  B001T7QJ9O              2        4.320312 2012-04-02   \n",
      "1693317  B001T7QJ9O              3        4.246094 2012-09-23   \n",
      "1693318  B001T7QJ9O              4        4.308594 2012-12-19   \n",
      "1693319  B001T7QJ9O              5        4.425781 2013-01-26   \n",
      "1693320  B001T7QJ9O              6        4.523438 2013-03-16   \n",
      "1693321  B001T7QJ9O              7        4.515625 2013-05-09   \n",
      "1693322  B001T7QJ9O              8        4.375000 2013-07-02   \n",
      "1693323  B001T7QJ9O              9        4.460938 2013-08-22   \n",
      "1693324  B001T7QJ9O             10        4.300781 2013-10-23   \n",
      "1693325  B001T7QJ9O             11        4.390625 2013-12-22   \n",
      "1693326  B001T7QJ9O             12        4.523438 2014-01-21   \n",
      "1693327  B001T7QJ9O             13        4.386719 2014-02-25   \n",
      "1693328  B001T7QJ9O             14        4.371094 2014-04-05   \n",
      "1693329  B001T7QJ9O             15        4.398438 2014-06-20   \n",
      "1693330  B001T7QJ9O             16        4.281250 2014-09-20   \n",
      "1693331  B001T7QJ9O             17        4.531250 2014-12-03   \n",
      "1693332  B001T7QJ9O             18        4.605469 2014-12-30   \n",
      "1693333  B001T7QJ9O             19        4.578125 2015-01-19   \n",
      "1693334  B001T7QJ9O             20        4.613281 2015-02-11   \n",
      "1693335  B001T7QJ9O             21        4.601562 2015-03-11   \n",
      "1693336  B001T7QJ9O             22        4.425781 2015-04-12   \n",
      "1693337  B001T7QJ9O             23        4.593750 2015-05-15   \n",
      "1693338  B001T7QJ9O             24        4.593750 2015-06-24   \n",
      "1693339  B001T7QJ9O             25        4.574219 2015-07-30   \n",
      "1693340  B001T7QJ9O             26        4.441406 2015-08-28   \n",
      "1693341  B001T7QJ9O             27        4.933594 2015-08-31   \n",
      "\n",
      "         mean_review_length  percent_verified  \n",
      "1693314          572.420000               0.0  \n",
      "1693315          579.605000               0.0  \n",
      "1693316          522.615000               0.0  \n",
      "1693317          554.590000               0.0  \n",
      "1693318          454.085000               0.0  \n",
      "1693319          339.820000               0.0  \n",
      "1693320          371.115000               0.0  \n",
      "1693321          367.375000               0.0  \n",
      "1693322          406.250000               0.0  \n",
      "1693323          340.695000               0.0  \n",
      "1693324          343.665000               0.0  \n",
      "1693325          356.405000               0.0  \n",
      "1693326          344.340000               0.0  \n",
      "1693327          343.395000               0.0  \n",
      "1693328          339.870000               0.0  \n",
      "1693329          330.075000               0.0  \n",
      "1693330          239.935000               0.0  \n",
      "1693331          249.095000               0.0  \n",
      "1693332          186.250000               0.0  \n",
      "1693333          182.460000               0.0  \n",
      "1693334          170.965000               0.0  \n",
      "1693335          202.065000               0.0  \n",
      "1693336          180.375000               0.0  \n",
      "1693337          186.285000               0.0  \n",
      "1693338          196.785000               0.0  \n",
      "1693339          196.415000               0.0  \n",
      "1693340          191.745000               0.0  \n",
      "1693341          147.466667               0.0  \n",
      "\n",
      "\n"
     ]
    }
   ],
   "source": [
    "# Repeat product inspection\n",
    "sample_product_ids = filtered_cohort_data['product_id'].sample(n=3, random_state=1).tolist()\n",
    "\n",
    "for product_id in sample_product_ids:\n",
    "    product_data = filtered_cohort_data[filtered_cohort_data['product_id'] == product_id]\n",
    "    print(f\"Data for product {product_id}:\")\n",
    "    print(product_data)\n",
    "    print(\"\\n\")\n"
   ]
  },
  {
   "cell_type": "code",
   "execution_count": 7,
   "metadata": {},
   "outputs": [
    {
     "name": "stdout",
     "output_type": "stream",
     "text": [
      "Total NaN values (should be equal to the number of products): 926\n"
     ]
    }
   ],
   "source": [
    "# Check that NaN values in rating changes are correct (should be one for each product)\n",
    "data_for_volatility_analysis = filtered_cohort_data.copy()\n",
    "\n",
    "data_for_volatility_analysis['rating_change'] = data_for_volatility_analysis.groupby('product_id')['average_rating'].diff().abs()\n",
    "\n",
    "nan_counts = data_for_volatility_analysis['rating_change'].isna().groupby(data_for_volatility_analysis['product_id']).sum()\n",
    "\n",
    "print(f\"Total NaN values (should be equal to the number of products): {nan_counts.sum()}\")\n",
    "\n",
    "# Drop  NaN values\n",
    "data_for_volatility_analysis.dropna(subset=['rating_change'], inplace=True)\n"
   ]
  },
  {
   "cell_type": "code",
   "execution_count": 8,
   "metadata": {},
   "outputs": [
    {
     "name": "stdout",
     "output_type": "stream",
     "text": [
      "     product_id  review_cohort  average_rating\n",
      "205  B00004YVB2              0        4.628906\n",
      "206  B00004YVB2              1        4.628906\n",
      "207  B00004YVB2              2        4.664062\n",
      "208  B00004YVB2              3        4.726562\n"
     ]
    }
   ],
   "source": [
    "# More testing - looking at an example product's cohorts and avg ratings per cohort\n",
    "example_product_id = filtered_cohort_data['product_id'].iloc[0]\n",
    "example_product_data = filtered_cohort_data[filtered_cohort_data['product_id'] == example_product_id]\n",
    "print(example_product_data[['product_id', 'review_cohort', 'average_rating']])\n"
   ]
  },
  {
   "cell_type": "code",
   "execution_count": 9,
   "metadata": {},
   "outputs": [
    {
     "name": "stdout",
     "output_type": "stream",
     "text": [
      "The average volatility across all products is 0.14 stars.\n"
     ]
    },
    {
     "data": {
      "text/plain": [
       "4544"
      ]
     },
     "execution_count": 9,
     "metadata": {},
     "output_type": "execute_result"
    }
   ],
   "source": [
    "# Calc avg volatility across all products\n",
    "average_volatility = data_for_volatility_analysis['rating_change'].mean()\n",
    "\n",
    "print(f\"The average volatility across all products is {average_volatility:.2f} stars.\")\n",
    "data_for_volatility_analysis.shape[0]"
   ]
  },
  {
   "cell_type": "code",
   "execution_count": 10,
   "metadata": {},
   "outputs": [
    {
     "name": "stdout",
     "output_type": "stream",
     "text": [
      "The average of per-product volatility across all products is 0.15 stars.\n"
     ]
    }
   ],
   "source": [
    "# Calc mean volatility per product\n",
    "per_product_volatility = data_for_volatility_analysis.groupby('product_id')['rating_change'].mean()\n",
    "\n",
    "# Avg across products\n",
    "average_volatility = per_product_volatility.mean()\n",
    "\n",
    "print(f\"The average of per-product volatility across all products is {average_volatility:.2f} stars.\")\n"
   ]
  },
  {
   "cell_type": "code",
   "execution_count": 11,
   "metadata": {},
   "outputs": [
    {
     "name": "stdout",
     "output_type": "stream",
     "text": [
      "Average number of cohorts for high volatility products: 4.40\n",
      "Average number of cohorts for low volatility products: 4.80\n"
     ]
    }
   ],
   "source": [
    "# Calc 25th and 75th percentiles for volatility and identify high and low volatility products. Then check avg cohorts for each.\n",
    "volatility_25th_percentile = per_product_volatility.quantile(0.25)\n",
    "volatility_75th_percentile = per_product_volatility.quantile(0.75)\n",
    "\n",
    "high_volatility_products = per_product_volatility[per_product_volatility > volatility_75th_percentile].index\n",
    "low_volatility_products = per_product_volatility[per_product_volatility < volatility_25th_percentile].index\n",
    "\n",
    "# Filter original DF to only high and low volatility products\n",
    "high_vol_df = data_for_volatility_analysis[data_for_volatility_analysis['product_id'].isin(high_volatility_products)]\n",
    "low_vol_df = data_for_volatility_analysis[data_for_volatility_analysis['product_id'].isin(low_volatility_products)]\n",
    "\n",
    "# Calculate the average number of cohorts for high and low volatility products\n",
    "average_cohorts_high_vol = high_vol_df.groupby('product_id')['review_cohort'].nunique().mean()\n",
    "average_cohorts_low_vol = low_vol_df.groupby('product_id')['review_cohort'].nunique().mean()\n",
    "\n",
    "print(f\"Average number of cohorts for high volatility products: {average_cohorts_high_vol:.2f}\")\n",
    "print(f\"Average number of cohorts for low volatility products: {average_cohorts_low_vol:.2f}\")\n"
   ]
  },
  {
   "cell_type": "code",
   "execution_count": 12,
   "metadata": {},
   "outputs": [
    {
     "name": "stdout",
     "output_type": "stream",
     "text": [
      "Average volatility across all products with at least 4 cohorts: 0.15 stars\n",
      "Average volatility for high volatility products with at least 4 cohorts: 0.29 stars\n",
      "Average volatility for low volatility products with at least 4 cohorts: 0.06 stars\n"
     ]
    }
   ],
   "source": [
    "# Calc avg volatility for all, high-vol and low-vol \n",
    "average_volatility = per_product_volatility.mean()\n",
    "\n",
    "average_volatility_high_filtered = per_product_volatility.loc[high_volatility_products].mean()\n",
    "\n",
    "average_volatility_low_filtered = per_product_volatility.loc[low_volatility_products].mean()\n",
    "\n",
    "print(f\"Average volatility across all products with at least 4 cohorts: {average_volatility:.2f} stars\")\n",
    "print(f\"Average volatility for high volatility products with at least 4 cohorts: {average_volatility_high_filtered:.2f} stars\")\n",
    "print(f\"Average volatility for low volatility products with at least 4 cohorts: {average_volatility_low_filtered:.2f} stars\")\n"
   ]
  },
  {
   "cell_type": "code",
   "execution_count": 13,
   "metadata": {},
   "outputs": [
    {
     "name": "stderr",
     "output_type": "stream",
     "text": [
      "c:\\Users\\willf\\anaconda3\\lib\\site-packages\\scipy\\__init__.py:146: UserWarning: A NumPy version >=1.16.5 and <1.23.0 is required for this version of SciPy (detected version 1.23.5\n",
      "  warnings.warn(f\"A NumPy version >={np_minversion} and <{np_maxversion}\"\n"
     ]
    },
    {
     "name": "stdout",
     "output_type": "stream",
     "text": [
      "The general trend in average ratings over time is: Decreasing\n",
      "The average range of average ratings across all products is: 0.34 stars\n"
     ]
    }
   ],
   "source": [
    "# See if there is a general trend in the direction and amount of rating changes from one cohort to the next\n",
    "\n",
    "from scipy.stats import linregress\n",
    "\n",
    "# Func to calc slope of avg rating\n",
    "def calculate_slope(group):\n",
    "    regression_results = linregress(group['review_cohort'], group['average_rating'])\n",
    "    return regression_results.slope\n",
    "\n",
    "# Apply func to each product\n",
    "slopes = data_for_volatility_analysis.groupby('product_id').apply(calculate_slope)\n",
    "\n",
    "# Calc overall rating range from max rating to min rating per product\n",
    "rating_range = data_for_volatility_analysis.groupby('product_id')['average_rating'].agg(lambda x: x.max() - x.min())\n",
    "\n",
    "# Create slope and range per product DF\n",
    "trend_analysis = pd.DataFrame({\n",
    "    'slope': slopes,\n",
    "    'rating_range': rating_range\n",
    "})\n",
    "\n",
    "# Look at trends for all products\n",
    "general_trend = 'Increasing' if trend_analysis['slope'].mean() > 0 else 'Decreasing'\n",
    "\n",
    "print(f\"The general trend in average ratings over time is: {general_trend}\")\n",
    "\n",
    "print(f\"The average range of average ratings across all products is: {trend_analysis['rating_range'].mean():.2f} stars\")\n"
   ]
  },
  {
   "cell_type": "code",
   "execution_count": 14,
   "metadata": {},
   "outputs": [
    {
     "ename": "NameError",
     "evalue": "name 'plt' is not defined",
     "output_type": "error",
     "traceback": [
      "\u001b[1;31m---------------------------------------------------------------------------\u001b[0m",
      "\u001b[1;31mNameError\u001b[0m                                 Traceback (most recent call last)",
      "\u001b[1;32mc:\\Users\\willf\\OneDrive\\Documents\\NYDSA\\Reviews Project\\Reviews_Git\\Reviews_Cohort_Analysis_200_1.ipynb Cell 14\u001b[0m line \u001b[0;36m<cell line: 9>\u001b[1;34m()\u001b[0m\n\u001b[0;32m      <a href='vscode-notebook-cell:/c%3A/Users/willf/OneDrive/Documents/NYDSA/Reviews%20Project/Reviews_Git/Reviews_Cohort_Analysis_200_1.ipynb#X20sZmlsZQ%3D%3D?line=5'>6</a>\u001b[0m low_vol_avg_rating_by_cohort \u001b[39m=\u001b[39m low_vol_df\u001b[39m.\u001b[39mgroupby(\u001b[39m'\u001b[39m\u001b[39mreview_cohort\u001b[39m\u001b[39m'\u001b[39m)[\u001b[39m'\u001b[39m\u001b[39maverage_rating\u001b[39m\u001b[39m'\u001b[39m]\u001b[39m.\u001b[39mmean()\n\u001b[0;32m      <a href='vscode-notebook-cell:/c%3A/Users/willf/OneDrive/Documents/NYDSA/Reviews%20Project/Reviews_Git/Reviews_Cohort_Analysis_200_1.ipynb#X20sZmlsZQ%3D%3D?line=7'>8</a>\u001b[0m \u001b[39m# Plot\u001b[39;00m\n\u001b[1;32m----> <a href='vscode-notebook-cell:/c%3A/Users/willf/OneDrive/Documents/NYDSA/Reviews%20Project/Reviews_Git/Reviews_Cohort_Analysis_200_1.ipynb#X20sZmlsZQ%3D%3D?line=8'>9</a>\u001b[0m plt\u001b[39m.\u001b[39mfigure(figsize\u001b[39m=\u001b[39m(\u001b[39m14\u001b[39m, \u001b[39m7\u001b[39m))\n\u001b[0;32m     <a href='vscode-notebook-cell:/c%3A/Users/willf/OneDrive/Documents/NYDSA/Reviews%20Project/Reviews_Git/Reviews_Cohort_Analysis_200_1.ipynb#X20sZmlsZQ%3D%3D?line=10'>11</a>\u001b[0m plt\u001b[39m.\u001b[39mplot(high_vol_avg_rating_by_cohort\u001b[39m.\u001b[39mindex, high_vol_avg_rating_by_cohort\u001b[39m.\u001b[39mvalues, label\u001b[39m=\u001b[39m\u001b[39m'\u001b[39m\u001b[39mHigh Volatility\u001b[39m\u001b[39m'\u001b[39m, marker\u001b[39m=\u001b[39m\u001b[39m'\u001b[39m\u001b[39mo\u001b[39m\u001b[39m'\u001b[39m)\n\u001b[0;32m     <a href='vscode-notebook-cell:/c%3A/Users/willf/OneDrive/Documents/NYDSA/Reviews%20Project/Reviews_Git/Reviews_Cohort_Analysis_200_1.ipynb#X20sZmlsZQ%3D%3D?line=11'>12</a>\u001b[0m plt\u001b[39m.\u001b[39mplot(low_vol_avg_rating_by_cohort\u001b[39m.\u001b[39mindex, low_vol_avg_rating_by_cohort\u001b[39m.\u001b[39mvalues, label\u001b[39m=\u001b[39m\u001b[39m'\u001b[39m\u001b[39mLow Volatility\u001b[39m\u001b[39m'\u001b[39m, marker\u001b[39m=\u001b[39m\u001b[39m'\u001b[39m\u001b[39mx\u001b[39m\u001b[39m'\u001b[39m)\n",
      "\u001b[1;31mNameError\u001b[0m: name 'plt' is not defined"
     ]
    }
   ],
   "source": [
    "# Line plot of avg rating per cohort for high vs low-vol products\n",
    "\n",
    "# Calc avg rating per cohort for high vol and low vol\n",
    "high_vol_avg_rating_by_cohort = high_vol_df.groupby('review_cohort')['average_rating'].mean()\n",
    "\n",
    "low_vol_avg_rating_by_cohort = low_vol_df.groupby('review_cohort')['average_rating'].mean()\n",
    "\n",
    "# Plot\n",
    "plt.figure(figsize=(14, 7))\n",
    "\n",
    "plt.plot(high_vol_avg_rating_by_cohort.index, high_vol_avg_rating_by_cohort.values, label='High Volatility', marker='o')\n",
    "plt.plot(low_vol_avg_rating_by_cohort.index, low_vol_avg_rating_by_cohort.values, label='Low Volatility', marker='x')\n",
    "\n",
    "plt.title('Average Rating Trajectory Over Time')\n",
    "plt.xlabel('Cohort Number')\n",
    "plt.ylabel('Average Rating')\n",
    "plt.legend()\n",
    "plt.grid(True)\n",
    "\n",
    "plt.show()\n"
   ]
  },
  {
   "cell_type": "code",
   "execution_count": null,
   "metadata": {},
   "outputs": [
    {
     "name": "stdout",
     "output_type": "stream",
     "text": [
      "review_cohort\n",
      "20    7\n",
      "21    5\n",
      "22    4\n",
      "23    4\n",
      "24    3\n",
      "25    2\n",
      "26    2\n",
      "27    2\n",
      "28    2\n",
      "29    2\n",
      "30    2\n",
      "Name: product_id, dtype: int64\n"
     ]
    }
   ],
   "source": [
    "# Seeing the fall off in the avg rating, I wondered if that was due to the sample size of products in each cohort falling\n",
    "\n",
    "# Count products for each high-vol cohort\n",
    "high_vol_product_count_by_cohort = high_vol_df.groupby('review_cohort')['product_id'].nunique()\n",
    "\n",
    "product_count_around_25th_cohort = high_vol_product_count_by_cohort.loc[20:30]\n",
    "print(product_count_around_25th_cohort)\n"
   ]
  },
  {
   "cell_type": "code",
   "execution_count": null,
   "metadata": {},
   "outputs": [
    {
     "data": {
      "image/png": "[encoded data removed]",
      "text/plain": [
       "<Figure size 1008x504 with 1 Axes>"
      ]
     },
     "metadata": {
      "needs_background": "light"
     },
     "output_type": "display_data"
    }
   ],
   "source": [
    "# Re-plotting with floor on products per cohort \n",
    "\n",
    "high_vol_avg_rating_by_cohort = high_vol_df.groupby('review_cohort')['average_rating'].mean()\n",
    "\n",
    "low_vol_avg_rating_by_cohort = low_vol_df.groupby('review_cohort')['average_rating'].mean()\n",
    "\n",
    "high_vol_product_count_by_cohort = high_vol_df.groupby('review_cohort')['product_id'].nunique()\n",
    "\n",
    "low_vol_product_count_by_cohort = low_vol_df.groupby('review_cohort')['product_id'].nunique()\n",
    "\n",
    "# Filter cohorts to only include those with 10 or more products\n",
    "high_vol_avg_rating_by_cohort_filtered = high_vol_avg_rating_by_cohort[high_vol_product_count_by_cohort >= 10]\n",
    "low_vol_avg_rating_by_cohort_filtered = low_vol_avg_rating_by_cohort[low_vol_product_count_by_cohort >= 10]\n",
    "\n",
    "# Plot\n",
    "plt.figure(figsize=(14, 7))\n",
    "plt.plot(high_vol_avg_rating_by_cohort_filtered.index, high_vol_avg_rating_by_cohort_filtered.values, label='High Volatility', marker='o')\n",
    "plt.plot(low_vol_avg_rating_by_cohort_filtered.index, low_vol_avg_rating_by_cohort_filtered.values, label='Low Volatility', marker='x')\n",
    "\n",
    "plt.title('Average Rating For Every 100 Reviewers (Filtered for Cohorts with >10 Products)')\n",
    "plt.xlabel('Cohort Number')\n",
    "plt.ylabel('Average Rating')\n",
    "plt.legend()\n",
    "plt.grid(True)\n",
    "plt.show()\n"
   ]
  },
  {
   "cell_type": "code",
   "execution_count": null,
   "metadata": {},
   "outputs": [
    {
     "data": {
      "image/png": "[encoded data removed]",
      "text/plain": [
       "<Figure size 432x288 with 1 Axes>"
      ]
     },
     "metadata": {
      "needs_background": "light"
     },
     "output_type": "display_data"
    }
   ],
   "source": [
    "# Plot high, low, all products as boxplit\n",
    "\n",
    "volatility_data = per_product_volatility.reset_index()\n",
    "volatility_data.columns = ['product_id', 'volatility']\n",
    "\n",
    "volatility_data['category'] = 'All Products'  \n",
    "volatility_data.loc[volatility_data['product_id'].isin(high_volatility_products), 'category'] = 'High Volatility'\n",
    "volatility_data.loc[volatility_data['product_id'].isin(low_volatility_products), 'category'] = 'Low Volatility'\n",
    "\n",
    "\n",
    "sns.boxplot(x='category', y='volatility', data=volatility_data)\n",
    "plt.title('Volatility of Product Ratings by Category')\n",
    "plt.xlabel('Category')\n",
    "plt.ylabel('Volatility (Stars)')\n",
    "plt.show()\n"
   ]
  },
  {
   "cell_type": "code",
   "execution_count": null,
   "metadata": {},
   "outputs": [
    {
     "data": {
      "image/png": "[encoded data removed]",
      "text/plain": [
       "<Figure size 720x432 with 1 Axes>"
      ]
     },
     "metadata": {
      "needs_background": "light"
     },
     "output_type": "display_data"
    }
   ],
   "source": [
    "# Plot as histograms\n",
    "\n",
    "bins = np.linspace(0, volatility_data['volatility'].max(), 20)\n",
    "\n",
    "plt.figure(figsize=(10, 6))\n",
    "\n",
    "plt.hist(volatility_data[volatility_data['category'] == 'All Products']['volatility'], bins=bins, alpha=0.5, label='All Products')\n",
    "\n",
    "plt.hist(volatility_data[volatility_data['category'] == 'High Volatility']['volatility'], bins=bins, alpha=0.5, label='High Volatility')\n",
    "\n",
    "plt.hist(volatility_data[volatility_data['category'] == 'Low Volatility']['volatility'], bins=bins, alpha=0.5, label='Low Volatility')\n",
    "\n",
    "plt.title('Histogram of Per-Product Rating Volatility')\n",
    "plt.xlabel('Volatility (Stars)')\n",
    "plt.ylabel('Frequency')\n",
    "plt.xlim(0,1.0)\n",
    "plt.legend(loc='upper right')\n",
    "plt.grid(True)\n",
    "plt.show()\n"
   ]
  },
  {
   "cell_type": "code",
   "execution_count": null,
   "metadata": {},
   "outputs": [
    {
     "data": {
      "image/png": "[encoded data removed]",
      "text/plain": [
       "<Figure size 1008x504 with 1 Axes>"
      ]
     },
     "metadata": {
      "needs_background": "light"
     },
     "output_type": "display_data"
    }
   ],
   "source": [
    "# Line plot of all vs high vs low vol products\n",
    "\n",
    "all_products_avg_rating_by_cohort = data_for_volatility_analysis.groupby('review_cohort')['average_rating'].mean()\n",
    "all_products_count_by_cohort = data_for_volatility_analysis.groupby('review_cohort')['product_id'].nunique()\n",
    "all_products_avg_rating_by_cohort_filtered = all_products_avg_rating_by_cohort[all_products_count_by_cohort >= 10]\n",
    "\n",
    "# Plot\n",
    "plt.figure(figsize=(14, 7))\n",
    "\n",
    "plt.plot(all_products_avg_rating_by_cohort_filtered.index, all_products_avg_rating_by_cohort_filtered.values, label='All Products', marker='^')\n",
    "\n",
    "plt.plot(high_vol_avg_rating_by_cohort_filtered.index, high_vol_avg_rating_by_cohort_filtered.values, label='High Volatility', marker='o')\n",
    "\n",
    "plt.plot(low_vol_avg_rating_by_cohort_filtered.index, low_vol_avg_rating_by_cohort_filtered.values, label='Low Volatility', marker='x')\n",
    "\n",
    "plt.title('Average Rating Per 100 Reviews (Filtered for Cohorts with 10+ Products)')\n",
    "plt.xlabel('Cohort Number')\n",
    "plt.ylabel('Average Rating')\n",
    "plt.legend()\n",
    "plt.grid(True)\n",
    "\n",
    "plt.show()\n"
   ]
  }
 ],
 "metadata": {
  "kernelspec": {
   "display_name": "base",
   "language": "python",
   "name": "python3"
  },
  "language_info": {
   "codemirror_mode": {
    "name": "ipython",
    "version": 3
   },
   "file_extension": ".py",
   "mimetype": "text/x-python",
   "name": "python",
   "nbconvert_exporter": "python",
   "pygments_lexer": "ipython3",
   "version": "3.9.12"
  }
 },
 "nbformat": 4,
 "nbformat_minor": 2
}
